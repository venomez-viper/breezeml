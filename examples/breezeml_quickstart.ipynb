{
 "cells": [
  {
   "cell_type": "markdown",
   "metadata": {},
   "source": [
    "# \ud83c\udf2c\ufe0f BreezeML Quickstart \ud83d\udd25\u2728\n",
    "\n",
    "Welcome to BreezeML! This notebook shows how to train your first ML model with just a few lines of code."
   ]
  },
  {
   "cell_type": "code",
   "execution_count": null,
   "metadata": {},
   "outputs": [],
   "source": [
    "# Install BreezeML (needed in Colab)\n",
    "!pip install breezeml"
   ]
  },
  {
   "cell_type": "code",
   "execution_count": null,
   "metadata": {},
   "outputs": [],
   "source": [
    "from breezeml import datasets, fit, predict, creator\n",
    "\n",
    "print(creator())  # Easter Egg \ud83d\udd25\u2728\n",
    "\n",
    "# Load Iris dataset\n",
    "df = datasets.iris()\n",
    "\n",
    "# Train a model\n",
    "model = fit(df, \"species\")\n",
    "\n",
    "# Make predictions\n",
    "print(predict(model, df.drop(columns=[\"species\"]))[:10])"
   ]
  }
 ],
 "metadata": {
  "kernelspec": {
   "display_name": "Python 3",
   "language": "python",
   "name": "python3"
  },
  "language_info": {
   "name": "python",
   "version": "3.10"
  }
 },
 "nbformat": 4,
 "nbformat_minor": 5
}