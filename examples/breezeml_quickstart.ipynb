{
 "cells": [
  {
   "cell_type": "markdown",
   "metadata": {},
   "source": [
    "# \ud83c\udf2c\ufe0f BreezeML Quickstart \ud83d\udd25\u2728\n",
    "Welcome to BreezeML! Train your first ML model in a few lines.\n"
   ]
  },
  {
   "cell_type": "code",
   "execution_count": null,
   "metadata": {},
   "outputs": [],
   "source": [
    "# Install in Colab (skip locally)\n",
    "!pip install breezeml"
   ]
  },
  {
   "cell_type": "code",
   "execution_count": null,
   "metadata": {},
   "outputs": [],
   "source": [
    "from breezeml import datasets, fit, predict, creator\n",
    "print(creator())\n",
    "df = datasets.iris()\n",
    "model = fit(df, \"species\")\n",
    "print(predict(model, df.drop(columns=[\"species\"]))[:10])"
   ]
  }
 ],
 "metadata": {
  "kernelspec": {
   "display_name": "Python 3",
   "language": "python",
   "name": "python3"
  },
  "language_info": {
   "name": "python"
  }
 },
 "nbformat": 4,
 "nbformat_minor": 5
}